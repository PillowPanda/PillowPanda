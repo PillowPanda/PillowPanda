{
 "cells": [
  {
   "cell_type": "code",
   "execution_count": 2,
   "metadata": {},
   "outputs": [
    {
     "name": "stdout",
     "output_type": "stream",
     "text": [
      "Predicted value: 20.97295036473242, Actual value: 21.0\n",
      "Mean Squared Error: 554.421766688445\n"
     ]
    }
   ],
   "source": [
    "# Import necessary libraries\n",
    "import numpy as np\n",
    "import pandas as pd\n",
    "from sklearn.linear_model import Ridge\n",
    "from scipy.spatial.distance import cdist\n",
    "from sklearn.preprocessing import StandardScaler\n",
    "from sklearn.metrics import mean_squared_error\n",
    "import matplotlib.pyplot as plt\n",
    "import matplotlib as mpl\n",
    "mpl.rcParams['figure.dpi'] = 120\n",
    "\n",
    "# Kernel functions encapsulated in a class\n",
    "class Kernel:\n",
    "    @staticmethod\n",
    "    def Gaussian(x):\n",
    "        return np.where(np.abs(x) > 4, 0, 1 / np.sqrt(2 * np.pi) * np.exp(-0.5 * x**2))\n",
    "\n",
    "    @staticmethod\n",
    "    def Tricubic(x):\n",
    "        return np.where(np.abs(x) > 1, 0, (1 - np.abs(x)**3)**3)\n",
    "\n",
    "    @staticmethod\n",
    "    def Epanechnikov(x):\n",
    "        return np.where(np.abs(x) > 1, 0, 3 / 4 * (1 - np.abs(x)**2))\n",
    "\n",
    "    @staticmethod\n",
    "    def Quartic(x):\n",
    "        return np.where(np.abs(x) > 1, 0, 15 / 16 * (1 - np.abs(x)**2)**2)\n",
    "\n",
    "# Utility function to calculate pairwise distances\n",
    "def calculate_distances(X):\n",
    "    return cdist(X, X, metric='euclidean')\n",
    "\n",
    "# Function to calculate kernel-based weights\n",
    "def kernel_function(distances, kernel, tau):\n",
    "    return kernel(distances / (2 * tau))\n",
    "\n",
    "# Ridge Regression Model with Kernel Weighting\n",
    "class KernelWeightedRidgeModel:\n",
    "    def __init__(self, kernel=Kernel.Gaussian, tau=0.05, alpha=0.001, max_iter=5000):\n",
    "        self.kernel = kernel\n",
    "        self.tau = tau\n",
    "        self.alpha = alpha\n",
    "        self.max_iter = max_iter\n",
    "        self.model = Ridge(alpha=self.alpha, max_iter=self.max_iter)\n",
    "    \n",
    "    def fit(self, X, y, distances):\n",
    "        # Calculate weights for each data point\n",
    "        self.weights = kernel_function(distances, self.kernel, self.tau)\n",
    "        \n",
    "        # Train the model with weighted data\n",
    "        W = np.diag(self.weights[:, 0])  # Use weights for the first data point (example)\n",
    "        self.model.fit(W @ X, W @ y)\n",
    "    \n",
    "    def predict(self, X_new):\n",
    "        return self.model.predict(X_new.reshape(1, -1))\n",
    "\n",
    "    def evaluate(self, X_test, y_test):\n",
    "        y_pred = self.model.predict(X_test)\n",
    "        return mean_squared_error(y_test, y_pred)\n",
    "\n",
    "data = pd.read_csv('https://github.com/dvasiliu/AAML/blob/main/Data%20Sets/mtcars.csv?raw=True')\n",
    "X = data.drop(columns=['model', 'mpg']).values\n",
    "y = data['mpg'].values\n",
    "\n",
    "# Scale the features\n",
    "scaler = StandardScaler()\n",
    "X_scaled = scaler.fit_transform(X)\n",
    "\n",
    "# Main workflow to train and evaluate the model\n",
    "def main():\n",
    "    # Calculate distances\n",
    "    distances = calculate_distances(X_scaled)\n",
    "    \n",
    "    # Initialize model\n",
    "    model = KernelWeightedRidgeModel(kernel=Kernel.Gaussian, tau=0.05, alpha=0.001, max_iter=5000)\n",
    "    \n",
    "    # Fit the model\n",
    "    model.fit(X_scaled, y, distances)\n",
    "    \n",
    "    # Make a prediction for the first test point\n",
    "    y_pred = model.predict(X_scaled[0])\n",
    "    print(f\"Predicted value: {y_pred[0]}, Actual value: {y[0]}\")\n",
    "    \n",
    "    # Evaluate the model\n",
    "    mse = model.evaluate(X_scaled, y)\n",
    "    print(f\"Mean Squared Error: {mse}\")\n",
    "\n",
    "# Run the main function\n",
    "if __name__ == \"__main__\":\n",
    "    main()"
   ]
  },
  {
   "cell_type": "code",
   "execution_count": 30,
   "metadata": {},
   "outputs": [],
   "source": [
    "# Import necessary libraries\n",
    "import numpy as np\n",
    "import pandas as pd\n",
    "from sklearn.linear_model import Ridge\n",
    "from scipy.spatial.distance import cdist\n",
    "from usearch.index import search, MetricKind, Matches, BatchMatches\n",
    "from sklearn import linear_model\n",
    "from sklearn.preprocessing import StandardScaler, MinMaxScaler\n",
    "from scipy.spatial import Delaunay\n",
    "from sklearn.ensemble import RandomForestRegressor\n",
    "from sklearn.model_selection import KFold, GridSearchCV\n",
    "from sklearn.metrics import mean_squared_error\n",
    "from scipy import linalg\n",
    "from sklearn.base import BaseEstimator, RegressorMixin\n",
    "import numpy as np\n",
    "import pandas as pd\n",
    "import matplotlib.pyplot as plt\n",
    "from sklearn.linear_model import Ridge\n",
    "from sklearn.model_selection import train_test_split, KFold, GridSearchCV\n",
    "from sklearn.preprocessing import MinMaxScaler\n",
    "from scipy.spatial.distance import cdist\n",
    "from scipy.interpolate import interp1d\n",
    "from sklearn.utils.validation import check_is_fitted\n",
    "from sklearn.base import BaseEstimator, RegressorMixin\n",
    "from sklearn.exceptions import NotFittedError\n",
    "from sklearn.utils.validation import check_X_y, check_array, check_is_fitted"
   ]
  },
  {
   "cell_type": "code",
   "execution_count": 3,
   "metadata": {},
   "outputs": [],
   "source": [
    "# We will be using mtcars dataset\n",
    "data = pd.read_csv('https://github.com/dvasiliu/AAML/blob/main/Data%20Sets/mtcars.csv?raw=True')"
   ]
  },
  {
   "cell_type": "code",
   "execution_count": 4,
   "metadata": {},
   "outputs": [],
   "source": [
    "# We will be having multiple features - cyl, disp, hp, drat, wt, qsec, vs, am, gear, carb\n",
    "X = data.drop(columns=['model', 'mpg']).values\n",
    "y = data['mpg'].values"
   ]
  },
  {
   "cell_type": "code",
   "execution_count": 6,
   "metadata": {},
   "outputs": [],
   "source": [
    "# if we compute distances we need to put the attributes on the same scale\n",
    "scaler = StandardScaler()\n",
    "xscaled = scaler.fit_transform(X)"
   ]
  },
  {
   "cell_type": "code",
   "execution_count": 8,
   "metadata": {},
   "outputs": [],
   "source": [
    "many_in_many: BatchMatches = search(xscaled, xscaled,len(xscaled) , MetricKind.L2sq, exact=True)\n",
    "one_in_many: Matches = search(xscaled, xscaled[0], len(xscaled), MetricKind.L2sq, exact=True)"
   ]
  },
  {
   "cell_type": "code",
   "execution_count": 9,
   "metadata": {},
   "outputs": [],
   "source": [
    "dist = one_in_many.to_list()\n",
    "distances = cdist(xscaled,xscaled,metric='Euclidean')"
   ]
  },
  {
   "cell_type": "code",
   "execution_count": 10,
   "metadata": {},
   "outputs": [],
   "source": [
    "# Kernels\n",
    "\n",
    "# Gaussian Kernel\n",
    "def Gaussian(x):\n",
    "  return np.where(np.abs(x)>4,0,1/(np.sqrt(2*np.pi))*np.exp(-1/2*x**2))\n",
    "  \n",
    "def Tricubic(x):\n",
    "  return np.where(np.abs(x)>1,0,(1-np.abs(x)**3)**3)\n",
    "\n",
    "def kernel_function(d_ij,kern, tau):\n",
    "    return kern(d_ij/(2*tau))\n",
    "\n",
    "kern = Gaussian\n",
    "weights = kernel_function(distances,kern,tau=0.05)"
   ]
  },
  {
   "cell_type": "code",
   "execution_count": 11,
   "metadata": {},
   "outputs": [
    {
     "data": {
      "text/plain": [
       "Ridge(alpha=0.001, max_iter=5000)"
      ]
     },
     "execution_count": 11,
     "metadata": {},
     "output_type": "execute_result"
    }
   ],
   "source": [
    "model = Ridge(alpha=0.001,max_iter=5000)\n",
    "model.fit(np.diag(weights[:,0])@xscaled, np.diag(weights[:,0])@y)"
   ]
  },
  {
   "cell_type": "code",
   "execution_count": 12,
   "metadata": {},
   "outputs": [
    {
     "data": {
      "text/plain": [
       "array([20.97295036])"
      ]
     },
     "execution_count": 12,
     "metadata": {},
     "output_type": "execute_result"
    }
   ],
   "source": [
    "# Result - array([17.06248486])\n",
    "model.predict(xscaled[0].reshape(1,-1))"
   ]
  },
  {
   "cell_type": "code",
   "execution_count": 13,
   "metadata": {},
   "outputs": [
    {
     "data": {
      "text/plain": [
       "21.0"
      ]
     },
     "execution_count": 13,
     "metadata": {},
     "output_type": "execute_result"
    }
   ],
   "source": [
    "# Result - 18,0\n",
    "y[0]"
   ]
  },
  {
   "cell_type": "code",
   "execution_count": 14,
   "metadata": {},
   "outputs": [],
   "source": [
    "scaler = StandardScaler()\n",
    "X_scaled = scaler.fit_transform(X)"
   ]
  },
  {
   "cell_type": "code",
   "execution_count": 15,
   "metadata": {},
   "outputs": [],
   "source": [
    "# Personalize code - Add Cauchy Kernel\n",
    "def Cauchy(x):\n",
    "    return 1 / (1 + x**2)\n",
    "\n",
    "def Tricubic(x):\n",
    "    return np.where(np.abs(x) > 1, 0, (1 - np.abs(x)**3)**3)"
   ]
  },
  {
   "cell_type": "code",
   "execution_count": 16,
   "metadata": {},
   "outputs": [],
   "source": [
    "def kernel_function(distances, kernel, tau):\n",
    "    return kernel(distances / (2 * tau))\n",
    "\n",
    "def calculate_distances(X):\n",
    "    return cdist(X, X, metric='Euclidean')"
   ]
  },
  {
   "cell_type": "code",
   "execution_count": 17,
   "metadata": {},
   "outputs": [],
   "source": [
    "class Lowess(BaseEstimator, RegressorMixin):\n",
    "    def __init__(self, kernel=Cauchy, tau=0.1, regularization=0.001):\n",
    "        self.kernel = kernel\n",
    "        self.tau = tau\n",
    "        self.regularization = regularization\n",
    "        self.fitted_ = False  \n",
    "\n",
    "    def fit(self, X, y):\n",
    "        self.X_train = X\n",
    "        self.y_train = y\n",
    "        self.distances = calculate_distances(self.X_train)\n",
    "        self.weights = kernel_function(self.distances, self.kernel, self.tau)\n",
    "        self.fitted_ = True  \n",
    "\n",
    "    def predict(self, X_new):\n",
    "        if not self.fitted_:\n",
    "            raise NotFittedError(f\"This Lowess instance is not fitted yet. Call 'fit' with appropriate arguments before using this estimator.\")\n",
    "\n",
    "        predictions = []\n",
    "\n",
    "        for i in range(len(X_new)):\n",
    "            w = self.weights[:, i]\n",
    "            model = Ridge(alpha=self.regularization)\n",
    "            model.fit(np.diag(w) @ self.X_train, np.diag(w) @ self.y_train)\n",
    "            prediction = model.predict(X_new[i].reshape(1, -1))\n",
    "            predictions.append(prediction)\n",
    "\n",
    "        return np.array(predictions)\n",
    "\n",
    "    def get_params(self, deep=True):\n",
    "        return {\"kernel\": self.kernel, \"tau\": self.tau, \"regularization\": self.regularization}\n",
    "\n",
    "    def set_params(self, **params):\n",
    "        for key, value in params.items():\n",
    "            setattr(self, key, value)\n",
    "        return self\n"
   ]
  },
  {
   "cell_type": "code",
   "execution_count": 18,
   "metadata": {},
   "outputs": [
    {
     "name": "stdout",
     "output_type": "stream",
     "text": [
      "[[ -1.13821791]\n",
      " [  3.33646953]\n",
      " [-13.3106584 ]\n",
      " [-13.69685591]\n",
      " [ -7.97232186]]\n",
      "[19.7 10.4 19.2 32.4 22.8]\n"
     ]
    }
   ],
   "source": [
    "X_train, X_test, y_train, y_test = train_test_split(X_scaled, y, test_size=0.2, random_state=42)\n",
    "\n",
    "model = Lowess(kernel=Cauchy, tau=0.15)\n",
    "model.fit(X_train, y_train)\n",
    "\n",
    "y_pred = model.predict(X_test)\n",
    "\n",
    "print(y_pred[:5])\n",
    "print(y_test[:5])"
   ]
  },
  {
   "cell_type": "code",
   "execution_count": 19,
   "metadata": {},
   "outputs": [
    {
     "name": "stdout",
     "output_type": "stream",
     "text": [
      "Mean Squared Error: 708.2549571475354\n"
     ]
    }
   ],
   "source": [
    "from sklearn.metrics import mean_squared_error\n",
    "\n",
    "mse = mean_squared_error(y_test, y_pred)\n",
    "print(f\"Mean Squared Error: {mse}\")"
   ]
  },
  {
   "cell_type": "code",
   "execution_count": 20,
   "metadata": {},
   "outputs": [
    {
     "name": "stdout",
     "output_type": "stream",
     "text": [
      "Best tau: 0.5\n",
      "Optimized Mean Squared Error: 571.6161212691303\n"
     ]
    }
   ],
   "source": [
    "param_grid = {'tau': np.linspace(0.01, 0.5, 10)}\n",
    "grid_search = GridSearchCV(Lowess(), param_grid, scoring='neg_mean_squared_error', cv=5)\n",
    "\n",
    "grid_search.fit(X_train, y_train)\n",
    "best_tau = grid_search.best_params_['tau']\n",
    "\n",
    "print(f\"Best tau: {best_tau}\")\n",
    "\n",
    "best_model = Lowess(kernel=Cauchy, tau=best_tau)\n",
    "best_model.fit(X_train, y_train)\n",
    "\n",
    "best_y_pred = best_model.predict(X_test)\n",
    "best_mse = mean_squared_error(y_test, best_y_pred)\n",
    "print(f\"Optimized Mean Squared Error: {best_mse}\")"
   ]
  },
  {
   "cell_type": "code",
   "execution_count": 31,
   "metadata": {},
   "outputs": [],
   "source": [
    "class ModelPipeline:\n",
    "    def __init__(self, model_class, kernel, tau=0.15, param_grid=None):\n",
    "        self.model_class = model_class\n",
    "        self.kernel = kernel\n",
    "        self.tau = tau\n",
    "        self.param_grid = param_grid\n",
    "        self.model = self.model_class(kernel=self.kernel, tau=self.tau)\n",
    "        \n",
    "        self.grid_search = None\n",
    "        self.best_tau = None\n",
    "        self.best_model = None\n",
    "\n",
    "        self.X_train = None\n",
    "        self.X_test = None\n",
    "        self.y_train = None\n",
    "        self.y_test = None\n",
    "    \n",
    "    def split_data(self, X, y, test_size=0.2, random_state=42):\n",
    "        self.X_train, self.X_test, self.y_train, self.y_test = train_test_split(X, y, test_size=test_size, random_state=random_state)\n",
    "\n",
    "    def train_model(self):\n",
    "        self.model.fit(self.X_train, self.y_train)\n",
    "\n",
    "    def predict(self):\n",
    "        return self.model.predict(self.X_test)\n",
    "\n",
    "    def evaluate(self, y_pred):\n",
    "        mse = mean_squared_error(self.y_test, y_pred)\n",
    "        print(f\"Mean Squared Error: {mse}\")\n",
    "        return mse\n",
    "\n",
    "    def tune_parameters(self):\n",
    "        if self.param_grid:\n",
    "            self.grid_search = GridSearchCV(self.model_class(kernel=self.kernel), self.param_grid, scoring='neg_mean_squared_error', cv=5)\n",
    "            self.grid_search.fit(self.X_train, self.y_train)\n",
    "            self.best_tau = self.grid_search.best_params_['tau']\n",
    "            print(f\"Best tau: {self.best_tau}\")\n",
    "            self.best_model = self.model_class(kernel=self.kernel, tau=self.best_tau)\n",
    "            self.best_model.fit(self.X_train, self.y_train)\n",
    "        else:\n",
    "            print(\"No param_grid provided\")\n",
    "    \n",
    "    def predict_best_model(self):\n",
    "        if self.best_model:\n",
    "            return self.best_model.predict(self.X_test)\n",
    "        else:\n",
    "            raise ValueError(\"Best model not available\")\n",
    "    \n",
    "    def evaluate_best_model(self, y_pred):\n",
    "        best_mse = mean_squared_error(self.y_test, y_pred)\n",
    "        print(f\"Optimized Mean Squared Error: {best_mse}\")\n",
    "        return best_mse\n",
    "    \n",
    "    def run_pipeline(self, X, y, tune=False):\n",
    "        self.split_data(X, y)\n",
    "        self.train_model()\n",
    "        y_pred = self.predict()\n",
    "        self.evaluate(y_pred)\n",
    "        \n",
    "        if tune and self.param_grid:\n",
    "            self.tune_parameters()\n",
    "            best_y_pred = self.predict_best_model()\n",
    "            self.evaluate_best_model(best_y_pred)\n",
    "        elif tune:\n",
    "            print(\"No tuning parameters provided\")"
   ]
  },
  {
   "cell_type": "code",
   "execution_count": 32,
   "metadata": {},
   "outputs": [
    {
     "name": "stdout",
     "output_type": "stream",
     "text": [
      "Mean Squared Error: 708.2549571475354\n",
      "Best tau: 0.5\n",
      "Optimized Mean Squared Error: 571.6161212691303\n"
     ]
    }
   ],
   "source": [
    "param_grid = {'tau': np.linspace(0.01, 0.5, 10)}\n",
    "pipeline = ModelPipeline(Lowess, Cauchy, tau=0.15, param_grid=param_grid)\n",
    "pipeline.run_pipeline(X_scaled, y, tune=True)"
   ]
  },
  {
   "cell_type": "code",
   "execution_count": 34,
   "metadata": {},
   "outputs": [
    {
     "name": "stdout",
     "output_type": "stream",
     "text": [
      "Mean Squared Error: 571.6161212691303\n",
      "Best tau: 0.5\n",
      "Optimized Mean Squared Error: 571.6161212691303\n"
     ]
    }
   ],
   "source": [
    "param_grid = {'tau': np.linspace(0.01, 0.5, 10)}\n",
    "pipeline = ModelPipeline(Lowess, Cauchy, tau=0.5, param_grid=param_grid)\n",
    "pipeline.run_pipeline(X_scaled, y, tune=True)"
   ]
  },
  {
   "cell_type": "code",
   "execution_count": 33,
   "metadata": {},
   "outputs": [
    {
     "name": "stdout",
     "output_type": "stream",
     "text": [
      "Mean Squared Error: 814.9926518560685\n",
      "Best tau: 0.5\n",
      "Optimized Mean Squared Error: 783.7627322556642\n"
     ]
    }
   ],
   "source": [
    "param_grid = {'tau': np.linspace(0.01, 0.5, 10)}\n",
    "pipeline = ModelPipeline(Lowess, Gaussian, tau=0.15, param_grid=param_grid)\n",
    "pipeline.run_pipeline(X_scaled, y, tune=True)"
   ]
  },
  {
   "cell_type": "code",
   "execution_count": 37,
   "metadata": {},
   "outputs": [
    {
     "name": "stdout",
     "output_type": "stream",
     "text": [
      "Mean Squared Error: 916.2222436264611\n",
      "Best tau: 0.33666666666666667\n",
      "Optimized Mean Squared Error: 787.9824387794472\n"
     ]
    }
   ],
   "source": [
    "param_grid = {'tau': np.linspace(0.01, 0.5, 10)}\n",
    "pipeline = ModelPipeline(Lowess, Tricubic, tau=0.5, param_grid=param_grid)\n",
    "pipeline.run_pipeline(X_scaled, y, tune=True)"
   ]
  },
  {
   "cell_type": "code",
   "execution_count": null,
   "metadata": {},
   "outputs": [],
   "source": []
  }
 ],
 "metadata": {
  "kernelspec": {
   "display_name": "base",
   "language": "python",
   "name": "python3"
  },
  "language_info": {
   "codemirror_mode": {
    "name": "ipython",
    "version": 3
   },
   "file_extension": ".py",
   "mimetype": "text/x-python",
   "name": "python",
   "nbconvert_exporter": "python",
   "pygments_lexer": "ipython3",
   "version": "3.9.12"
  }
 },
 "nbformat": 4,
 "nbformat_minor": 2
}
