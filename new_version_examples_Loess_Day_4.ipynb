{
  "cells": [
    {
      "cell_type": "code",
      "execution_count": 1,
      "metadata": {
        "id": "ziY7r1nql25S"
      },
      "outputs": [],
      "source": [
        "# this block of code imports graphical libraries for plotting graphs with high resolution\n",
        "%matplotlib inline\n",
        "%config InlineBackend.figure_format = 'retina'\n",
        "import matplotlib.pyplot as plt\n",
        "import matplotlib as mpl\n",
        "mpl.rcParams['figure.dpi'] = 120"
      ]
    },
    {
      "cell_type": "code",
      "execution_count": 2,
      "metadata": {
        "colab": {
          "base_uri": "https://localhost:8080/"
        },
        "id": "-IIYiAnTmQIS",
        "outputId": "e1ded118-ada6-4e8b-bdd6-c324f50297bd"
      },
      "outputs": [
        {
          "name": "stderr",
          "output_type": "stream",
          "text": [
            "\n",
            "[notice] A new release of pip is available: 24.0 -> 24.2\n",
            "[notice] To update, run: python.exe -m pip install --upgrade pip\n"
          ]
        }
      ],
      "source": [
        "!pip install -q usearch"
      ]
    },
    {
      "cell_type": "code",
      "execution_count": 3,
      "metadata": {
        "id": "1ijPRfPcmCOL"
      },
      "outputs": [],
      "source": [
        "# Libraries of functions need to be imported\n",
        "import numpy as np\n",
        "import pandas as pd\n",
        "from sklearn.linear_model import Ridge\n",
        "from scipy.spatial.distance import cdist\n",
        "from usearch.index import search, MetricKind, Matches, BatchMatches\n",
        "from sklearn import linear_model\n",
        "from sklearn.preprocessing import StandardScaler, MinMaxScaler\n",
        "from scipy.spatial import Delaunay\n",
        "from sklearn.ensemble import RandomForestRegressor\n",
        "from sklearn.model_selection import KFold, GridSearchCV\n",
        "from sklearn.metrics import mean_squared_error as mse\n",
        "from scipy import linalg\n",
        "# from scipy.interpolate import interp1d, LinearNDInterpolator, NearestNDInterpolator\n",
        "# from sklearn.decomposition import PCA\n",
        "\n",
        "# the following line(s) are necessary if you want to make SKlearn compliant functions\n",
        "from sklearn.base import BaseEstimator, RegressorMixin\n",
        "from sklearn.utils.validation import check_X_y, check_array, check_is_fitted"
      ]
    },
    {
      "cell_type": "code",
      "execution_count": 5,
      "metadata": {
        "colab": {
          "base_uri": "https://localhost:8080/",
          "height": 423
        },
        "id": "Rpajzno8nGcJ",
        "outputId": "1ae5993e-dcea-4161-87ba-241727d6a09a"
      },
      "outputs": [
        {
          "data": {
            "text/html": [
              "<div>\n",
              "<style scoped>\n",
              "    .dataframe tbody tr th:only-of-type {\n",
              "        vertical-align: middle;\n",
              "    }\n",
              "\n",
              "    .dataframe tbody tr th {\n",
              "        vertical-align: top;\n",
              "    }\n",
              "\n",
              "    .dataframe thead th {\n",
              "        text-align: right;\n",
              "    }\n",
              "</style>\n",
              "<table border=\"1\" class=\"dataframe\">\n",
              "  <thead>\n",
              "    <tr style=\"text-align: right;\">\n",
              "      <th></th>\n",
              "      <th>MPG</th>\n",
              "      <th>CYL</th>\n",
              "      <th>ENG</th>\n",
              "      <th>WGT</th>\n",
              "    </tr>\n",
              "  </thead>\n",
              "  <tbody>\n",
              "    <tr>\n",
              "      <th>0</th>\n",
              "      <td>18.0</td>\n",
              "      <td>8</td>\n",
              "      <td>307.0</td>\n",
              "      <td>3504</td>\n",
              "    </tr>\n",
              "    <tr>\n",
              "      <th>1</th>\n",
              "      <td>15.0</td>\n",
              "      <td>8</td>\n",
              "      <td>350.0</td>\n",
              "      <td>3693</td>\n",
              "    </tr>\n",
              "    <tr>\n",
              "      <th>2</th>\n",
              "      <td>18.0</td>\n",
              "      <td>8</td>\n",
              "      <td>318.0</td>\n",
              "      <td>3436</td>\n",
              "    </tr>\n",
              "    <tr>\n",
              "      <th>3</th>\n",
              "      <td>16.0</td>\n",
              "      <td>8</td>\n",
              "      <td>304.0</td>\n",
              "      <td>3433</td>\n",
              "    </tr>\n",
              "    <tr>\n",
              "      <th>4</th>\n",
              "      <td>17.0</td>\n",
              "      <td>8</td>\n",
              "      <td>302.0</td>\n",
              "      <td>3449</td>\n",
              "    </tr>\n",
              "    <tr>\n",
              "      <th>...</th>\n",
              "      <td>...</td>\n",
              "      <td>...</td>\n",
              "      <td>...</td>\n",
              "      <td>...</td>\n",
              "    </tr>\n",
              "    <tr>\n",
              "      <th>387</th>\n",
              "      <td>27.0</td>\n",
              "      <td>4</td>\n",
              "      <td>140.0</td>\n",
              "      <td>2790</td>\n",
              "    </tr>\n",
              "    <tr>\n",
              "      <th>388</th>\n",
              "      <td>44.0</td>\n",
              "      <td>4</td>\n",
              "      <td>97.0</td>\n",
              "      <td>2130</td>\n",
              "    </tr>\n",
              "    <tr>\n",
              "      <th>389</th>\n",
              "      <td>32.0</td>\n",
              "      <td>4</td>\n",
              "      <td>135.0</td>\n",
              "      <td>2295</td>\n",
              "    </tr>\n",
              "    <tr>\n",
              "      <th>390</th>\n",
              "      <td>28.0</td>\n",
              "      <td>4</td>\n",
              "      <td>120.0</td>\n",
              "      <td>2625</td>\n",
              "    </tr>\n",
              "    <tr>\n",
              "      <th>391</th>\n",
              "      <td>31.0</td>\n",
              "      <td>4</td>\n",
              "      <td>119.0</td>\n",
              "      <td>2720</td>\n",
              "    </tr>\n",
              "  </tbody>\n",
              "</table>\n",
              "<p>392 rows × 4 columns</p>\n",
              "</div>"
            ],
            "text/plain": [
              "      MPG  CYL    ENG   WGT\n",
              "0    18.0    8  307.0  3504\n",
              "1    15.0    8  350.0  3693\n",
              "2    18.0    8  318.0  3436\n",
              "3    16.0    8  304.0  3433\n",
              "4    17.0    8  302.0  3449\n",
              "..    ...  ...    ...   ...\n",
              "387  27.0    4  140.0  2790\n",
              "388  44.0    4   97.0  2130\n",
              "389  32.0    4  135.0  2295\n",
              "390  28.0    4  120.0  2625\n",
              "391  31.0    4  119.0  2720\n",
              "\n",
              "[392 rows x 4 columns]"
            ]
          },
          "execution_count": 5,
          "metadata": {},
          "output_type": "execute_result"
        }
      ],
      "source": [
        "# We will be using mtcars dataset\n",
        "data = pd.read_csv('https://github.com/dvasiliu/AAML/blob/main/Data%20Sets/mtcars.csv?raw=True')\n",
        "data"
      ]
    },
    {
      "cell_type": "code",
      "execution_count": 6,
      "metadata": {
        "id": "NLu9c7h4nHPc"
      },
      "outputs": [],
      "source": [
        "# We will be having multiple features - cyl, disp, hp, drat, wt, qsec, vs, am, gear, carb\n",
        "X = data.drop(columns=['model', 'mpg']).values\n",
        "y = data['mpg'].values"
      ]
    },
    {
      "cell_type": "code",
      "execution_count": 7,
      "metadata": {
        "id": "G-IrmpdNoFDN"
      },
      "outputs": [],
      "source": [
        "# if we compute distances we need to put the attributes on the same scale\n",
        "scaler = StandardScaler()\n",
        "xscaled = scaler.fit_transform(x)"
      ]
    },
    {
      "cell_type": "code",
      "execution_count": 8,
      "metadata": {
        "id": "Edhx2mnanTZW"
      },
      "outputs": [],
      "source": [
        "many_in_many: BatchMatches = search(xscaled, xscaled,392 , MetricKind.L2sq, exact=True)"
      ]
    },
    {
      "cell_type": "code",
      "execution_count": 9,
      "metadata": {
        "id": "Lp5Tlp9XpDWU"
      },
      "outputs": [],
      "source": [
        "one_in_many: Matches = search(xscaled, xscaled[0], len(xscaled), MetricKind.L2sq, exact=True)"
      ]
    },
    {
      "cell_type": "code",
      "execution_count": 10,
      "metadata": {
        "id": "R3mr9K8OntRU"
      },
      "outputs": [],
      "source": [
        "dist = one_in_many.to_list()"
      ]
    },
    {
      "cell_type": "code",
      "execution_count": 11,
      "metadata": {
        "colab": {
          "base_uri": "https://localhost:8080/"
        },
        "id": "hp7t1DzWn0LX",
        "outputId": "0479b189-921f-4eda-be1a-e9ee474aa443"
      },
      "outputs": [
        {
          "ename": "AttributeError",
          "evalue": "'list' object has no attribute 'shape'",
          "output_type": "error",
          "traceback": [
            "\u001b[1;31m---------------------------------------------------------------------------\u001b[0m",
            "\u001b[1;31mAttributeError\u001b[0m                            Traceback (most recent call last)",
            "Input \u001b[1;32mIn [11]\u001b[0m, in \u001b[0;36m<cell line: 1>\u001b[1;34m()\u001b[0m\n\u001b[1;32m----> 1\u001b[0m \u001b[43mdist\u001b[49m\u001b[38;5;241;43m.\u001b[39;49m\u001b[43mshape\u001b[49m\n",
            "\u001b[1;31mAttributeError\u001b[0m: 'list' object has no attribute 'shape'"
          ]
        }
      ],
      "source": [
        "dist.shape"
      ]
    },
    {
      "cell_type": "code",
      "execution_count": null,
      "metadata": {
        "colab": {
          "base_uri": "https://localhost:8080/"
        },
        "id": "N5H76sOVn1C6",
        "outputId": "2fd774d0-c1b6-4e90-a145-909d1dd3b4b4"
      },
      "outputs": [
        {
          "data": {
            "text/plain": [
              "[(0, 0.0),\n",
              " (185, 0.0),\n",
              " (71, 0.0),\n",
              " (134, 0.0),\n",
              " (91, 0.0),\n",
              " (26, 0.0),\n",
              " (283, 0.0),\n",
              " (37, 0.0),\n",
              " (11, 0.0),\n",
              " (5, 0.0),\n",
              " (65, 0.0),\n",
              " (228, 0.0),\n",
              " (210, 0.0),\n",
              " (7, 0.0),\n",
              " (92, 0.0),\n",
              " (66, 0.0),\n",
              " (41, 0.0),\n",
              " (9, 0.0),\n",
              " (93, 0.0),\n",
              " (85, 0.0),\n",
              " (90, 0.0),\n",
              " (62, 0.0),\n",
              " (64, 0.0),\n",
              " (286, 0.0),\n",
              " (227, 0.0),\n",
              " (38, 0.0),\n",
              " (40, 0.0),\n",
              " (67, 0.0),\n",
              " (4, 0.0),\n",
              " (288, 0.0),\n",
              " (63, 0.0),\n",
              " (155, 0.0),\n",
              " (287, 0.0),\n",
              " (61, 0.0),\n",
              " (86, 0.0),\n",
              " (89, 0.0),\n",
              " (220, 0.0),\n",
              " (88, 0.0),\n",
              " (247, 0.0),\n",
              " (72, 0.0),\n",
              " (1, 0.0),\n",
              " (87, 0.0),\n",
              " (3, 0.0),\n",
              " (25, 0.0),\n",
              " (186, 0.0),\n",
              " (154, 0.0),\n",
              " (6, 0.0),\n",
              " (211, 0.0),\n",
              " (136, 0.0),\n",
              " (135, 0.0),\n",
              " (102, 0.0),\n",
              " (84, 0.0),\n",
              " (285, 0.0),\n",
              " (8, 0.0),\n",
              " (10, 0.0),\n",
              " (2, 0.0),\n",
              " (284, 0.0),\n",
              " (103, 0.0),\n",
              " (219, 0.0),\n",
              " (39, 0.0),\n",
              " (133, 0.1599999964237213),\n",
              " (248, 0.1599999964237213),\n",
              " (282, 0.1599999964237213),\n",
              " (36, 0.1599999964237213),\n",
              " (221, 0.1599999964237213),\n",
              " (261, 0.1599999964237213),\n",
              " (226, 0.1599999964237213),\n",
              " (156, 0.1599999964237213),\n",
              " (260, 0.1599999964237213),\n",
              " (42, 0.1599999964237213),\n",
              " (153, 0.1599999964237213),\n",
              " (94, 0.1599999964237213),\n",
              " (209, 0.1599999964237213),\n",
              " (162, 0.1599999964237213),\n",
              " (24, 0.1599999964237213),\n",
              " (187, 0.1599999964237213),\n",
              " (104, 0.1599999964237213),\n",
              " (259, 0.3199999928474426),\n",
              " (249, 0.3199999928474426),\n",
              " (122, 0.3199999928474426),\n",
              " (258, 0.3199999928474426),\n",
              " (281, 0.3199999928474426),\n",
              " (188, 0.3199999928474426),\n",
              " (35, 0.3199999928474426),\n",
              " (152, 0.3199999928474426),\n",
              " (225, 0.3199999928474426),\n",
              " (157, 0.3199999928474426),\n",
              " (161, 0.3199999928474426),\n",
              " (357, 0.3199999928474426),\n",
              " (359, 0.3199999928474426),\n",
              " (95, 0.3199999928474426),\n",
              " (222, 0.3199999928474426),\n",
              " (358, 0.3199999928474426),\n",
              " (123, 0.3199999928474426),\n",
              " (132, 0.3199999928474426),\n",
              " (208, 0.3199999928474426),\n",
              " (257, 0.47999998927116394),\n",
              " (131, 0.47999998927116394),\n",
              " (32, 0.47999998927116394),\n",
              " (15, 0.47999998927116394),\n",
              " (256, 0.47999998927116394),\n",
              " (34, 0.47999998927116394),\n",
              " (33, 0.47999998927116394),\n",
              " (255, 0.47999998927116394),\n",
              " (97, 0.47999998927116394),\n",
              " (158, 0.47999998927116394),\n",
              " (150, 0.47999998927116394),\n",
              " (151, 0.47999998927116394),\n",
              " (223, 0.47999998927116394),\n",
              " (159, 0.47999998927116394),\n",
              " (160, 0.47999998927116394),\n",
              " (356, 0.47999998927116394),\n",
              " (190, 0.47999998927116394),\n",
              " (355, 0.47999998927116394),\n",
              " (198, 0.47999998927116394),\n",
              " (98, 0.47999998927116394),\n",
              " (224, 0.47999998927116394),\n",
              " (189, 0.47999998927116394),\n",
              " (96, 0.47999998927116394),\n",
              " (124, 0.47999998927116394),\n",
              " (250, 0.47999998927116394),\n",
              " (197, 0.47999998927116394),\n",
              " (254, 0.47999998927116394),\n",
              " (262, 0.6399999856948853),\n",
              " (137, 0.6399999856948853),\n",
              " (289, 0.6399999856948853),\n",
              " (73, 0.6399999856948853),\n",
              " (296, 0.6399999856948853),\n",
              " (229, 0.6399999856948853),\n",
              " (163, 0.6399999856948853),\n",
              " (83, 0.6399999856948853),\n",
              " (101, 0.6399999856948853),\n",
              " (212, 0.6399999856948853),\n",
              " (184, 0.6399999856948853),\n",
              " (12, 0.6399999856948853),\n",
              " (218, 0.6399999856948853),\n",
              " (113, 0.6399999856948853),\n",
              " (27, 0.6399999856948853),\n",
              " (114, 0.6399999856948853),\n",
              " (60, 0.6399999856948853),\n",
              " (246, 0.6399999856948853),\n",
              " (43, 0.800000011920929),\n",
              " (23, 0.800000011920929),\n",
              " (100, 0.800000011920929),\n",
              " (206, 0.800000011920929),\n",
              " (105, 0.800000011920929),\n",
              " (112, 0.800000011920929),\n",
              " (13, 0.800000011920929),\n",
              " (120, 0.800000011920929),\n",
              " (121, 0.800000011920929),\n",
              " (391, 0.8598652482032776),\n",
              " (31, 0.9599999785423279),\n",
              " (130, 0.9599999785423279),\n",
              " (273, 0.9599999785423279),\n",
              " (280, 0.9599999785423279),\n",
              " (16, 0.9599999785423279),\n",
              " (277, 0.9599999785423279),\n",
              " (279, 0.9599999785423279),\n",
              " (278, 0.9599999785423279),\n",
              " (304, 0.9599999785423279),\n",
              " (149, 0.9599999785423279),\n",
              " (303, 0.9599999785423279),\n",
              " (45, 0.9599999785423279),\n",
              " (251, 0.9599999785423279),\n",
              " (380, 0.9599999785423279),\n",
              " (381, 0.9599999785423279),\n",
              " (354, 0.9599999785423279),\n",
              " (196, 0.9599999785423279),\n",
              " (199, 0.9599999785423279),\n",
              " (99, 0.9599999785423279),\n",
              " (360, 0.9599999785423279),\n",
              " (44, 0.9599999785423279),\n",
              " (207, 0.9599999785423279),\n",
              " (172, 0.9599999785423279),\n",
              " (46, 0.9599999785423279),\n",
              " (379, 0.9599999785423279),\n",
              " (191, 0.9599999785423279),\n",
              " (14, 0.9599999785423279),\n",
              " (125, 0.9599999785423279),\n",
              " (252, 0.9599999785423279),\n",
              " (253, 0.9599999785423279),\n",
              " (68, 1.0),\n",
              " (69, 1.0),\n",
              " (70, 1.0),\n",
              " (295, 1.0),\n",
              " (294, 1.0),\n",
              " (272, 1.159999966621399),\n",
              " (271, 1.159999966621399),\n",
              " (263, 1.2799999713897705),\n",
              " (138, 1.2799999713897705),\n",
              " (290, 1.2799999713897705),\n",
              " (298, 1.2799999713897705),\n",
              " (297, 1.2799999713897705),\n",
              " (74, 1.2799999713897705),\n",
              " (164, 1.2799999713897705),\n",
              " (82, 1.2799999713897705),\n",
              " (204, 1.2799999713897705),\n",
              " (205, 1.2799999713897705),\n",
              " (213, 1.2799999713897705),\n",
              " (217, 1.2799999713897705),\n",
              " (183, 1.2799999713897705),\n",
              " (230, 1.2799999713897705),\n",
              " (115, 1.2799999713897705),\n",
              " (28, 1.2799999713897705),\n",
              " (118, 1.2799999713897705),\n",
              " (119, 1.2799999713897705),\n",
              " (59, 1.2799999713897705),\n",
              " (245, 1.2799999713897705),\n",
              " (390, 1.4262518882751465),\n",
              " (129, 1.440000057220459),\n",
              " (274, 1.440000057220459),\n",
              " (275, 1.440000057220459),\n",
              " (276, 1.440000057220459),\n",
              " (148, 1.440000057220459),\n",
              " (17, 1.440000057220459),\n",
              " (302, 1.440000057220459),\n",
              " (314, 1.440000057220459),\n",
              " (305, 1.440000057220459),\n",
              " (166, 1.440000057220459),\n",
              " (336, 1.440000057220459),\n",
              " (313, 1.440000057220459),\n",
              " (312, 1.440000057220459),\n",
              " (170, 1.440000057220459),\n",
              " (174, 1.440000057220459),\n",
              " (353, 1.440000057220459),\n",
              " (328, 1.440000057220459),\n",
              " (165, 1.440000057220459),\n",
              " (337, 1.440000057220459),\n",
              " (167, 1.440000057220459),\n",
              " (171, 1.440000057220459),\n",
              " (335, 1.440000057220459),\n",
              " (22, 1.440000057220459),\n",
              " (378, 1.440000057220459),\n",
              " (382, 1.440000057220459),\n",
              " (47, 1.440000057220459),\n",
              " (173, 1.440000057220459),\n",
              " (195, 1.440000057220459),\n",
              " (200, 1.440000057220459),\n",
              " (106, 1.440000057220459),\n",
              " (361, 1.440000057220459),\n",
              " (111, 1.440000057220459),\n",
              " (383, 1.440000057220459),\n",
              " (237, 1.440000057220459),\n",
              " (238, 1.440000057220459),\n",
              " (192, 1.440000057220459),\n",
              " (30, 1.440000057220459),\n",
              " (126, 1.440000057220459),\n",
              " (270, 1.6399999856948853),\n",
              " (293, 1.6399999856948853),\n",
              " (324, 1.6399999856948853),\n",
              " (325, 1.6399999856948853),\n",
              " (323, 1.6399999856948853),\n",
              " (330, 1.7999999523162842),\n",
              " (329, 1.7999999523162842),\n",
              " (110, 1.7999999523162842),\n",
              " (239, 1.7999999523162842),\n",
              " (127, 1.9199999570846558),\n",
              " (128, 1.9199999570846558),\n",
              " (264, 1.9199999570846558),\n",
              " (265, 1.9199999570846558),\n",
              " (266, 1.9199999570846558),\n",
              " (267, 1.9199999570846558),\n",
              " (268, 1.9199999570846558),\n",
              " (269, 1.9199999570846558),\n",
              " (139, 1.9199999570846558),\n",
              " (140, 1.9199999570846558),\n",
              " (141, 1.9199999570846558),\n",
              " (142, 1.9199999570846558),\n",
              " (143, 1.9199999570846558),\n",
              " (144, 1.9199999570846558),\n",
              " (145, 1.9199999570846558),\n",
              " (292, 1.9199999570846558),\n",
              " (146, 1.9199999570846558),\n",
              " (147, 1.9199999570846558),\n",
              " (299, 1.9199999570846558),\n",
              " (300, 1.9199999570846558),\n",
              " (301, 1.9199999570846558),\n",
              " (75, 1.9199999570846558),\n",
              " (306, 1.9199999570846558),\n",
              " (308, 1.9199999570846558),\n",
              " (76, 1.9199999570846558),\n",
              " (309, 1.9199999570846558),\n",
              " (310, 1.9199999570846558),\n",
              " (291, 1.9199999570846558),\n",
              " (77, 1.9199999570846558),\n",
              " (311, 1.9199999570846558),\n",
              " (315, 1.9199999570846558),\n",
              " (316, 1.9199999570846558),\n",
              " (18, 1.9199999570846558),\n",
              " (78, 1.9199999570846558),\n",
              " (317, 1.9199999570846558),\n",
              " (318, 1.9199999570846558),\n",
              " (320, 1.9199999570846558),\n",
              " (321, 1.9199999570846558),\n",
              " (322, 1.9199999570846558),\n",
              " (80, 1.9199999570846558),\n",
              " (326, 1.9199999570846558),\n",
              " (81, 1.9199999570846558),\n",
              " (327, 1.9199999570846558),\n",
              " (307, 1.9199999570846558),\n",
              " (332, 1.9199999570846558),\n",
              " (19, 1.9199999570846558),\n",
              " (333, 1.9199999570846558),\n",
              " (334, 1.9199999570846558),\n",
              " (168, 1.9199999570846558),\n",
              " (338, 1.9199999570846558),\n",
              " (340, 1.9199999570846558),\n",
              " (341, 1.9199999570846558),\n",
              " (342, 1.9199999570846558),\n",
              " (344, 1.9199999570846558),\n",
              " (345, 1.9199999570846558),\n",
              " (346, 1.9199999570846558),\n",
              " (319, 1.9199999570846558),\n",
              " (79, 1.9199999570846558),\n",
              " (20, 1.9199999570846558),\n",
              " (347, 1.9199999570846558),\n",
              " (348, 1.9199999570846558),\n",
              " (349, 1.9199999570846558),\n",
              " (350, 1.9199999570846558),\n",
              " (352, 1.9199999570846558),\n",
              " (176, 1.9199999570846558),\n",
              " (177, 1.9199999570846558),\n",
              " (178, 1.9199999570846558),\n",
              " (179, 1.9199999570846558),\n",
              " (180, 1.9199999570846558),\n",
              " (362, 1.9199999570846558),\n",
              " (364, 1.9199999570846558),\n",
              " (21, 1.9199999570846558),\n",
              " (365, 1.9199999570846558),\n",
              " (182, 1.9199999570846558),\n",
              " (366, 1.9199999570846558),\n",
              " (339, 1.9199999570846558),\n",
              " (169, 1.9199999570846558),\n",
              " (368, 1.9199999570846558),\n",
              " (369, 1.9199999570846558),\n",
              " (370, 1.9199999570846558),\n",
              " (343, 1.9199999570846558),\n",
              " (371, 1.9199999570846558),\n",
              " (372, 1.9199999570846558),\n",
              " (373, 1.9199999570846558),\n",
              " (374, 1.9199999570846558),\n",
              " (375, 1.9199999570846558),\n",
              " (376, 1.9199999570846558),\n",
              " (377, 1.9199999570846558),\n",
              " (351, 1.9199999570846558),\n",
              " (175, 1.9199999570846558),\n",
              " (384, 1.9199999570846558),\n",
              " (385, 1.9199999570846558),\n",
              " (386, 1.9199999570846558),\n",
              " (388, 1.9199999570846558),\n",
              " (194, 1.9199999570846558),\n",
              " (389, 1.9199999570846558),\n",
              " (48, 1.9199999570846558),\n",
              " (49, 1.9199999570846558),\n",
              " (201, 1.9199999570846558),\n",
              " (202, 1.9199999570846558),\n",
              " (50, 1.9199999570846558),\n",
              " (203, 1.9199999570846558),\n",
              " (363, 1.9199999570846558),\n",
              " (181, 1.9199999570846558),\n",
              " (51, 1.9199999570846558),\n",
              " (367, 1.9199999570846558),\n",
              " (52, 1.9199999570846558),\n",
              " (214, 1.9199999570846558),\n",
              " (193, 1.9199999570846558),\n",
              " (215, 1.9199999570846558),\n",
              " (107, 1.9199999570846558),\n",
              " (216, 1.9199999570846558),\n",
              " (53, 1.9199999570846558),\n",
              " (54, 1.9199999570846558),\n",
              " (55, 1.9199999570846558),\n",
              " (56, 1.9199999570846558),\n",
              " (231, 1.9199999570846558),\n",
              " (232, 1.9199999570846558),\n",
              " (233, 1.9199999570846558),\n",
              " (57, 1.9199999570846558),\n",
              " (116, 1.9199999570846558),\n",
              " (234, 1.9199999570846558),\n",
              " (235, 1.9199999570846558),\n",
              " (58, 1.9199999570846558),\n",
              " (117, 1.9199999570846558),\n",
              " (236, 1.9199999570846558),\n",
              " (387, 1.9199999570846558),\n",
              " (29, 1.9199999570846558),\n",
              " (242, 1.9199999570846558),\n",
              " (243, 1.9199999570846558),\n",
              " (244, 1.9199999570846558),\n",
              " (331, 2.2799999713897705),\n",
              " (108, 2.2799999713897705),\n",
              " (109, 2.2799999713897705),\n",
              " (240, 2.2799999713897705),\n",
              " (241, 2.2799999713897705)]"
            ]
          },
          "execution_count": 25,
          "metadata": {},
          "output_type": "execute_result"
        }
      ],
      "source": [
        "dist"
      ]
    },
    {
      "cell_type": "code",
      "execution_count": null,
      "metadata": {
        "id": "bjI608fuoXPt"
      },
      "outputs": [],
      "source": [
        "distances = cdist(xscaled,xscaled,metric='Euclidean')"
      ]
    },
    {
      "cell_type": "code",
      "execution_count": null,
      "metadata": {
        "colab": {
          "base_uri": "https://localhost:8080/"
        },
        "id": "bwkV8JQ3owfS",
        "outputId": "9c820ce7-1529-4168-b748-ff0cbdc8d3e9"
      },
      "outputs": [
        {
          "data": {
            "text/plain": [
              "(392, 392)"
            ]
          },
          "execution_count": 33,
          "metadata": {},
          "output_type": "execute_result"
        }
      ],
      "source": [
        "distances.shape"
      ]
    },
    {
      "cell_type": "markdown",
      "metadata": {
        "id": "QPilnSo6p78_"
      },
      "source": [
        "### Kernels for the Weights"
      ]
    },
    {
      "cell_type": "code",
      "execution_count": null,
      "metadata": {
        "id": "8ZzcrOExoxkv"
      },
      "outputs": [],
      "source": [
        "# Gaussian Kernel\n",
        "def Gaussian(x):\n",
        "  return np.where(np.abs(x)>4,0,1/(np.sqrt(2*np.pi))*np.exp(-1/2*x**2))"
      ]
    },
    {
      "cell_type": "code",
      "execution_count": null,
      "metadata": {
        "id": "WgoTN1CyqAKF"
      },
      "outputs": [],
      "source": [
        "# this is the correct vectorized version\n",
        "def Tricubic(x):\n",
        "  return np.where(np.abs(x)>1,0,(1-np.abs(x)**3)**3)"
      ]
    },
    {
      "cell_type": "code",
      "execution_count": null,
      "metadata": {
        "id": "qsvDhMv1qEjl"
      },
      "outputs": [],
      "source": [
        "# Epanechnikov Kernel\n",
        "def Epanechnikov(x):\n",
        "  return np.where(np.abs(x)>1,0,3/4*(1-np.abs(x)**2))"
      ]
    },
    {
      "cell_type": "code",
      "execution_count": null,
      "metadata": {
        "id": "2RsgKrUGqIHl"
      },
      "outputs": [],
      "source": [
        "# Quartic Kernel\n",
        "def Quartic(x):\n",
        "  return np.where(np.abs(x)>1,0,15/16*(1-np.abs(x)**2)**2)"
      ]
    },
    {
      "cell_type": "code",
      "execution_count": null,
      "metadata": {
        "id": "9gx9XdNyqjId"
      },
      "outputs": [],
      "source": [
        "def kernel_function(d_ij,kern, tau):\n",
        "    return kern(d_ij/(2*tau))"
      ]
    },
    {
      "cell_type": "code",
      "execution_count": null,
      "metadata": {
        "id": "v9msOx67qK8n"
      },
      "outputs": [],
      "source": [
        "# we want the weights\n",
        "kern = Gaussian"
      ]
    },
    {
      "cell_type": "code",
      "execution_count": null,
      "metadata": {
        "id": "fmpdeoDfqtlm"
      },
      "outputs": [],
      "source": [
        "weights = kernel_function(distances,kern,tau=0.05)"
      ]
    },
    {
      "cell_type": "code",
      "execution_count": null,
      "metadata": {
        "colab": {
          "base_uri": "https://localhost:8080/"
        },
        "id": "MWtBwlq6q0Jg",
        "outputId": "addd2682-1ca9-4419-e36c-b4ac34aa639d"
      },
      "outputs": [
        {
          "data": {
            "text/plain": [
              "array([[0.39894228, 0.18641149, 0.37609268, ..., 0.        , 0.        ,\n",
              "        0.        ],\n",
              "       [0.18641149, 0.39894228, 0.2173439 , ..., 0.        , 0.        ,\n",
              "        0.        ],\n",
              "       [0.37609268, 0.2173439 , 0.39894228, ..., 0.        , 0.        ,\n",
              "        0.        ],\n",
              "       ...,\n",
              "       [0.        , 0.        , 0.        , ..., 0.39894228, 0.23888698,\n",
              "        0.1772128 ],\n",
              "       [0.        , 0.        , 0.        , ..., 0.23888698, 0.39894228,\n",
              "        0.3846016 ],\n",
              "       [0.        , 0.        , 0.        , ..., 0.1772128 , 0.3846016 ,\n",
              "        0.39894228]])"
            ]
          },
          "execution_count": 37,
          "metadata": {},
          "output_type": "execute_result"
        }
      ],
      "source": [
        "weights"
      ]
    },
    {
      "cell_type": "markdown",
      "metadata": {
        "id": "FkVKMY8brFHm"
      },
      "source": [
        "### What happens next?\n",
        "\n",
        "Answer: we multiply the weights with the data and we solve n linear regression problems."
      ]
    },
    {
      "cell_type": "code",
      "execution_count": null,
      "metadata": {
        "id": "0TeYk7x9q09T"
      },
      "outputs": [],
      "source": [
        "# one set of weights is weights[:,0]\n",
        "model = Ridge(alpha=0.001,max_iter=5000)"
      ]
    },
    {
      "cell_type": "code",
      "execution_count": null,
      "metadata": {
        "colab": {
          "base_uri": "https://localhost:8080/",
          "height": 74
        },
        "id": "kBaqfiJ1rit8",
        "outputId": "c8b8c0dc-4944-4580-b067-8ac73ab52a37"
      },
      "outputs": [
        {
          "data": {
            "text/html": [
              "<style>#sk-container-id-2 {color: black;}#sk-container-id-2 pre{padding: 0;}#sk-container-id-2 div.sk-toggleable {background-color: white;}#sk-container-id-2 label.sk-toggleable__label {cursor: pointer;display: block;width: 100%;margin-bottom: 0;padding: 0.3em;box-sizing: border-box;text-align: center;}#sk-container-id-2 label.sk-toggleable__label-arrow:before {content: \"▸\";float: left;margin-right: 0.25em;color: #696969;}#sk-container-id-2 label.sk-toggleable__label-arrow:hover:before {color: black;}#sk-container-id-2 div.sk-estimator:hover label.sk-toggleable__label-arrow:before {color: black;}#sk-container-id-2 div.sk-toggleable__content {max-height: 0;max-width: 0;overflow: hidden;text-align: left;background-color: #f0f8ff;}#sk-container-id-2 div.sk-toggleable__content pre {margin: 0.2em;color: black;border-radius: 0.25em;background-color: #f0f8ff;}#sk-container-id-2 input.sk-toggleable__control:checked~div.sk-toggleable__content {max-height: 200px;max-width: 100%;overflow: auto;}#sk-container-id-2 input.sk-toggleable__control:checked~label.sk-toggleable__label-arrow:before {content: \"▾\";}#sk-container-id-2 div.sk-estimator input.sk-toggleable__control:checked~label.sk-toggleable__label {background-color: #d4ebff;}#sk-container-id-2 div.sk-label input.sk-toggleable__control:checked~label.sk-toggleable__label {background-color: #d4ebff;}#sk-container-id-2 input.sk-hidden--visually {border: 0;clip: rect(1px 1px 1px 1px);clip: rect(1px, 1px, 1px, 1px);height: 1px;margin: -1px;overflow: hidden;padding: 0;position: absolute;width: 1px;}#sk-container-id-2 div.sk-estimator {font-family: monospace;background-color: #f0f8ff;border: 1px dotted black;border-radius: 0.25em;box-sizing: border-box;margin-bottom: 0.5em;}#sk-container-id-2 div.sk-estimator:hover {background-color: #d4ebff;}#sk-container-id-2 div.sk-parallel-item::after {content: \"\";width: 100%;border-bottom: 1px solid gray;flex-grow: 1;}#sk-container-id-2 div.sk-label:hover label.sk-toggleable__label {background-color: #d4ebff;}#sk-container-id-2 div.sk-serial::before {content: \"\";position: absolute;border-left: 1px solid gray;box-sizing: border-box;top: 0;bottom: 0;left: 50%;z-index: 0;}#sk-container-id-2 div.sk-serial {display: flex;flex-direction: column;align-items: center;background-color: white;padding-right: 0.2em;padding-left: 0.2em;position: relative;}#sk-container-id-2 div.sk-item {position: relative;z-index: 1;}#sk-container-id-2 div.sk-parallel {display: flex;align-items: stretch;justify-content: center;background-color: white;position: relative;}#sk-container-id-2 div.sk-item::before, #sk-container-id-2 div.sk-parallel-item::before {content: \"\";position: absolute;border-left: 1px solid gray;box-sizing: border-box;top: 0;bottom: 0;left: 50%;z-index: -1;}#sk-container-id-2 div.sk-parallel-item {display: flex;flex-direction: column;z-index: 1;position: relative;background-color: white;}#sk-container-id-2 div.sk-parallel-item:first-child::after {align-self: flex-end;width: 50%;}#sk-container-id-2 div.sk-parallel-item:last-child::after {align-self: flex-start;width: 50%;}#sk-container-id-2 div.sk-parallel-item:only-child::after {width: 0;}#sk-container-id-2 div.sk-dashed-wrapped {border: 1px dashed gray;margin: 0 0.4em 0.5em 0.4em;box-sizing: border-box;padding-bottom: 0.4em;background-color: white;}#sk-container-id-2 div.sk-label label {font-family: monospace;font-weight: bold;display: inline-block;line-height: 1.2em;}#sk-container-id-2 div.sk-label-container {text-align: center;}#sk-container-id-2 div.sk-container {/* jupyter's `normalize.less` sets `[hidden] { display: none; }` but bootstrap.min.css set `[hidden] { display: none !important; }` so we also need the `!important` here to be able to override the default hidden behavior on the sphinx rendered scikit-learn.org. See: https://github.com/scikit-learn/scikit-learn/issues/21755 */display: inline-block !important;position: relative;}#sk-container-id-2 div.sk-text-repr-fallback {display: none;}</style><div id=\"sk-container-id-2\" class=\"sk-top-container\"><div class=\"sk-text-repr-fallback\"><pre>Ridge(alpha=0.001, max_iter=5000)</pre><b>In a Jupyter environment, please rerun this cell to show the HTML representation or trust the notebook. <br />On GitHub, the HTML representation is unable to render, please try loading this page with nbviewer.org.</b></div><div class=\"sk-container\" hidden><div class=\"sk-item\"><div class=\"sk-estimator sk-toggleable\"><input class=\"sk-toggleable__control sk-hidden--visually\" id=\"sk-estimator-id-2\" type=\"checkbox\" checked><label for=\"sk-estimator-id-2\" class=\"sk-toggleable__label sk-toggleable__label-arrow\">Ridge</label><div class=\"sk-toggleable__content\"><pre>Ridge(alpha=0.001, max_iter=5000)</pre></div></div></div></div></div>"
            ],
            "text/plain": [
              "Ridge(alpha=0.001, max_iter=5000)"
            ]
          },
          "execution_count": 44,
          "metadata": {},
          "output_type": "execute_result"
        }
      ],
      "source": [
        "model.fit(np.diag(weights[:,0])@xscaled, np.diag(weights[:,0])@y)"
      ]
    },
    {
      "cell_type": "code",
      "execution_count": null,
      "metadata": {
        "colab": {
          "base_uri": "https://localhost:8080/"
        },
        "id": "BYfBfDKdr1QZ",
        "outputId": "3f6658e1-df5a-443d-cecd-c507352c24f9"
      },
      "outputs": [
        {
          "data": {
            "text/plain": [
              "array([17.06248486])"
            ]
          },
          "execution_count": 46,
          "metadata": {},
          "output_type": "execute_result"
        }
      ],
      "source": [
        "model.predict(xscaled[0].reshape(1,-1))"
      ]
    },
    {
      "cell_type": "code",
      "execution_count": null,
      "metadata": {
        "colab": {
          "base_uri": "https://localhost:8080/"
        },
        "id": "7zoKb3FfsaW5",
        "outputId": "96e6dada-a98c-4b88-f96b-5f641b92f8c7"
      },
      "outputs": [
        {
          "data": {
            "text/plain": [
              "18.0"
            ]
          },
          "execution_count": 47,
          "metadata": {},
          "output_type": "execute_result"
        }
      ],
      "source": [
        "y[0]"
      ]
    },
    {
      "cell_type": "markdown",
      "metadata": {
        "id": "nQ2sZneeQed2"
      },
      "source": []
    },
    {
      "cell_type": "markdown",
      "metadata": {
        "id": "iPcrtBIWQfs2"
      },
      "source": [
        "# 새로운 lowess 클래스"
      ]
    },
    {
      "cell_type": "code",
      "execution_count": null,
      "metadata": {
        "id": "qvDoPjCKshsl"
      },
      "outputs": [],
      "source": [
        "# 1. 필요한 라이브러리 임포트\n",
        "import numpy as np\n",
        "import pandas as pd\n",
        "import matplotlib.pyplot as plt\n",
        "from sklearn.linear_model import Ridge\n",
        "from sklearn.model_selection import train_test_split, KFold, GridSearchCV\n",
        "from sklearn.preprocessing import MinMaxScaler\n",
        "from scipy.spatial.distance import cdist\n",
        "from scipy.interpolate import interp1d\n",
        "from sklearn.utils.validation import check_is_fitted\n",
        "from sklearn.base import BaseEstimator, RegressorMixin\n",
        "from sklearn.exceptions import NotFittedError"
      ]
    },
    {
      "cell_type": "code",
      "execution_count": null,
      "metadata": {
        "id": "daPQWXugNixA"
      },
      "outputs": [],
      "source": [
        "# 2. 데이터셋 로딩 및 전처리\n",
        "# cars.csv 데이터셋을 사용하여 피처(X)와 타겟(y)을 나눈 후, 데이터를 정규화하는 절차\n",
        "path = '/content/cars (4).csv'\n",
        "data = pd.read_csv(path)\n",
        "\n",
        "# 피처와 타겟 분리\n",
        "X = data.drop(columns=['MPG']).values  # Features: CYL, ENG, WGT\n",
        "y = data['MPG'].values  # Target: MPG (Miles Per Gallon)\n",
        "\n",
        "# 스케일링 적용\n",
        "scaler = MinMaxScaler()\n",
        "X_scaled = scaler.fit_transform(X)\n"
      ]
    },
    {
      "cell_type": "code",
      "execution_count": null,
      "metadata": {
        "id": "oHQhr8c3NvXg"
      },
      "outputs": [],
      "source": [
        "# 3. 커널 함수 정의 Cauchy Kernel (새로운 방식)\n",
        "# 기존 가우시안 커널 -->  Cauchy Kernel과 Tricubic Kernel을 추가하여, 다양한 커널 옵션을 제공\n",
        "# # 가우시안 커널 (기존 방식)\n",
        "# def Gaussian(x):\n",
        "#     return np.where(np.abs(x) > 4, 0, 1 / (np.sqrt(2 * np.pi)) * np.exp(-1/2 * x**2))\n",
        "\n",
        "def Cauchy(x):\n",
        "    return 1 / (1 + x**2)\n",
        "\n",
        "# Tricubic Kernel (추가로 사용)\n",
        "def Tricubic(x):\n",
        "    return np.where(np.abs(x) > 1, 0, (1 - np.abs(x)**3)**3)\n"
      ]
    },
    {
      "cell_type": "code",
      "execution_count": null,
      "metadata": {
        "id": "4Lz-m26EN0cg"
      },
      "outputs": [],
      "source": [
        "# 4. 가중치 함수 및 거리 계산\n",
        "# LOESS의 핵심인 거리 계산과 가중치 행렬 계산을 포함.\n",
        "# 거리는 유클리드 거리를 사용하고, 커널을 적용해 각 데이터 포인트에 가중치를 부여\n",
        "def kernel_function(distances, kernel, tau):\n",
        "    return kernel(distances / (2 * tau))\n",
        "\n",
        "# 거리 계산 함수 (유클리드 거리 사용)\n",
        "def calculate_distances(X):\n",
        "    return cdist(X, X, metric='euclidean')\n"
      ]
    },
    {
      "cell_type": "code",
      "execution_count": null,
      "metadata": {
        "id": "KvD7dQXYN3Ro"
      },
      "outputs": [],
      "source": [
        "# 5. Lowess 클래스 작성\n",
        "# 기존 코드 흐름 절차는 유지 하되,\n",
        "# 새로운 커널과 GridSearchCV에 적합한 구조를 포함해 get_params와 set_params를 추가.\n",
        "\n",
        "class Lowess(BaseEstimator, RegressorMixin):\n",
        "    def __init__(self, kernel=Cauchy, tau=0.1, regularization=0.001):\n",
        "        self.kernel = kernel\n",
        "        self.tau = tau\n",
        "        self.regularization = regularization\n",
        "        self.fitted_ = False  # fit 여부를 추적하기 위한 변수 추가\n",
        "\n",
        "    def fit(self, X, y):\n",
        "        self.X_train = X\n",
        "        self.y_train = y\n",
        "\n",
        "        # 거리 계산\n",
        "        self.distances = calculate_distances(self.X_train)\n",
        "\n",
        "        # 가중치 계산\n",
        "        self.weights = kernel_function(self.distances, self.kernel, self.tau)\n",
        "\n",
        "        # fit 완료 표시\n",
        "        self.fitted_ = True  # 모델이 학습되었음을 표시\n",
        "\n",
        "    def predict(self, X_new):\n",
        "        if not self.fitted_:\n",
        "            raise NotFittedError(f\"This Lowess instance is not fitted yet. Call 'fit' with appropriate arguments before using this estimator.\")\n",
        "\n",
        "        predictions = []\n",
        "\n",
        "        for i in range(len(X_new)):\n",
        "            w = self.weights[:, i]\n",
        "            model = Ridge(alpha=self.regularization)\n",
        "            model.fit(np.diag(w) @ self.X_train, np.diag(w) @ self.y_train)\n",
        "            prediction = model.predict(X_new[i].reshape(1, -1))\n",
        "            predictions.append(prediction)\n",
        "\n",
        "        return np.array(predictions)\n",
        "\n",
        "    # Scikit-learn과 호환되기 위해 get_params, set_params 추가\n",
        "    def get_params(self, deep=True):\n",
        "        return {\"kernel\": self.kernel, \"tau\": self.tau, \"regularization\": self.regularization}\n",
        "\n",
        "    def set_params(self, **params):\n",
        "        for key, value in params.items():\n",
        "            setattr(self, key, value)\n",
        "        return self\n"
      ]
    },
    {
      "cell_type": "code",
      "execution_count": null,
      "metadata": {
        "colab": {
          "base_uri": "https://localhost:8080/"
        },
        "id": "QF-3X5LSN5Do",
        "outputId": "202634da-1038-4602-bd60-fde5a0e88755"
      },
      "outputs": [
        {
          "name": "stdout",
          "output_type": "stream",
          "text": [
            "[[ 9.5495056 ]\n",
            " [31.74452208]\n",
            " [10.16949669]\n",
            " [ 5.49252384]\n",
            " [31.89069237]]\n",
            "[26.       21.6      36.099998 26.       27.      ]\n"
          ]
        }
      ],
      "source": [
        "# 6. 모델 훈련 및 예측\n",
        "# 데이터를 사용하여 모델을 훈련, 예측 수행\n",
        "# train_test_split을 사용하여 데이터를 훈련 및 테스트 세트로 나눕\n",
        "\n",
        "# 데이터 분할\n",
        "X_train, X_test, y_train, y_test = train_test_split(X_scaled, y, test_size=0.2, random_state=42)\n",
        "\n",
        "# Lowess 모델 학습\n",
        "model = Lowess(kernel=Cauchy, tau=0.15)\n",
        "model.fit(X_train, y_train)\n",
        "\n",
        "# 테스트 데이터에 대한 예측\n",
        "y_pred = model.predict(X_test)\n",
        "\n",
        "# 예측 결과 확인\n",
        "print(y_pred[:5])\n",
        "print(y_test[:5])\n"
      ]
    },
    {
      "cell_type": "code",
      "execution_count": null,
      "metadata": {
        "colab": {
          "base_uri": "https://localhost:8080/"
        },
        "id": "Nb2JtPkBN7DY",
        "outputId": "564a2b84-dded-4955-b45c-0bc1d0f208db"
      },
      "outputs": [
        {
          "name": "stdout",
          "output_type": "stream",
          "text": [
            "Mean Squared Error: 2493.717088612443\n"
          ]
        }
      ],
      "source": [
        "# 7. 모델 성능 평가\n",
        "# 모델 성능을 **평균 제곱 오차(MSE)**로 평가\n",
        "\n",
        "from sklearn.metrics import mean_squared_error\n",
        "\n",
        "# MSE 계산\n",
        "mse = mean_squared_error(y_test, y_pred)\n",
        "print(f\"Mean Squared Error: {mse}\")\n"
      ]
    },
    {
      "cell_type": "code",
      "execution_count": null,
      "metadata": {
        "colab": {
          "base_uri": "https://localhost:8080/"
        },
        "id": "8wzByMWSOPVh",
        "outputId": "5bba87bc-754c-43a9-9ebf-050a0c6d55d3"
      },
      "outputs": [
        {
          "name": "stdout",
          "output_type": "stream",
          "text": [
            "Best tau: 0.5\n",
            "Optimized Mean Squared Error: 351.41695387566307\n"
          ]
        }
      ],
      "source": [
        "# 8. GridSearchCV를 사용한 하이퍼파라미터 튜닝\n",
        "# GridSearchCV를 사용하여 tau 값을 최적화\n",
        "\n",
        "# GridSearchCV를 사용한 하이퍼파라미터 최적화\n",
        "param_grid = {'tau': np.linspace(0.01, 0.5, 10)}\n",
        "grid_search = GridSearchCV(Lowess(), param_grid, scoring='neg_mean_squared_error', cv=5)\n",
        "\n",
        "# 최적의 tau 값 찾기\n",
        "grid_search.fit(X_train, y_train)\n",
        "best_tau = grid_search.best_params_['tau']\n",
        "\n",
        "print(f\"Best tau: {best_tau}\")\n",
        "\n",
        "# 최적의 tau를 사용하여 모델 학습\n",
        "best_model = Lowess(kernel=Cauchy, tau=best_tau)\n",
        "best_model.fit(X_train, y_train)\n",
        "\n",
        "# 테스트 데이터에 대한 예측 및 성능 평가\n",
        "best_y_pred = best_model.predict(X_test)\n",
        "best_mse = mean_squared_error(y_test, best_y_pred)\n",
        "print(f\"Optimized Mean Squared Error: {best_mse}\")\n"
      ]
    },
    {
      "cell_type": "markdown",
      "metadata": {
        "id": "HwAJqyUIR-Ug"
      },
      "source": [
        "## 부연설명\n",
        "### 커널 함수의 설명\n",
        "\n",
        "![image.png](data:image/png;base64,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)"
      ]
    },
    {
      "cell_type": "code",
      "execution_count": null,
      "metadata": {
        "id": "LzfiKy4AR-7Z"
      },
      "outputs": [],
      "source": []
    }
  ],
  "metadata": {
    "colab": {
      "provenance": []
    },
    "kernelspec": {
      "display_name": "Python 3",
      "name": "python3"
    },
    "language_info": {
      "codemirror_mode": {
        "name": "ipython",
        "version": 3
      },
      "file_extension": ".py",
      "mimetype": "text/x-python",
      "name": "python",
      "nbconvert_exporter": "python",
      "pygments_lexer": "ipython3",
      "version": "3.9.12"
    }
  },
  "nbformat": 4,
  "nbformat_minor": 0
}
